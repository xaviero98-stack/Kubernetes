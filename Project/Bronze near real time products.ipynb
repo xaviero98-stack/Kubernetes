{
 "cells": [
  {
   "cell_type": "code",
   "execution_count": 1,
   "id": "6b8fff26-1921-417e-82f0-010177a58180",
   "metadata": {},
   "outputs": [
    {
     "name": "stdout",
     "output_type": "stream",
     "text": [
      ":: loading settings :: url = jar:file:/opt/spark/jars/ivy-2.5.1.jar!/org/apache/ivy/core/settings/ivysettings.xml\n"
     ]
    },
    {
     "name": "stderr",
     "output_type": "stream",
     "text": [
      "Ivy Default Cache set to: /root/.ivy2/cache\n",
      "The jars for the packages stored in: /root/.ivy2/jars\n",
      "org.apache.iceberg#iceberg-spark-runtime-3.5_2.12 added as a dependency\n",
      "org.projectnessie.nessie-integrations#nessie-spark-extensions-3.5_2.12 added as a dependency\n",
      "org.apache.hadoop#hadoop-aws added as a dependency\n",
      "com.amazonaws#aws-java-sdk-bundle added as a dependency\n",
      "org.apache.spark#spark-sql-kafka-0-10_2.12 added as a dependency\n",
      ":: resolving dependencies :: org.apache.spark#spark-submit-parent-fc03b1b5-4942-43d0-9bf1-23bc34e6cfc4;1.0\n",
      "\tconfs: [default]\n",
      "\tfound org.apache.iceberg#iceberg-spark-runtime-3.5_2.12;1.9.2 in central\n",
      "\tfound org.projectnessie.nessie-integrations#nessie-spark-extensions-3.5_2.12;0.103.3 in central\n",
      "\tfound org.apache.hadoop#hadoop-aws;3.3.4 in central\n",
      "\tfound com.amazonaws#aws-java-sdk-bundle;1.12.262 in central\n",
      "\tfound org.wildfly.openssl#wildfly-openssl;1.0.7.Final in central\n",
      "\tfound org.apache.spark#spark-sql-kafka-0-10_2.12;3.5.1 in central\n",
      "\tfound org.apache.spark#spark-token-provider-kafka-0-10_2.12;3.5.1 in central\n",
      "\tfound org.apache.kafka#kafka-clients;3.4.1 in central\n",
      "\tfound org.lz4#lz4-java;1.8.0 in central\n",
      "\tfound org.xerial.snappy#snappy-java;1.1.10.3 in central\n",
      "\tfound org.slf4j#slf4j-api;2.0.7 in central\n",
      "\tfound org.apache.hadoop#hadoop-client-runtime;3.3.4 in central\n",
      "\tfound org.apache.hadoop#hadoop-client-api;3.3.4 in central\n",
      "\tfound commons-logging#commons-logging;1.1.3 in central\n",
      "\tfound com.google.code.findbugs#jsr305;3.0.0 in central\n",
      "\tfound org.apache.commons#commons-pool2;2.11.1 in central\n",
      "downloading https://repo1.maven.org/maven2/org/apache/iceberg/iceberg-spark-runtime-3.5_2.12/1.9.2/iceberg-spark-runtime-3.5_2.12-1.9.2.jar ...\n",
      "\t[SUCCESSFUL ] org.apache.iceberg#iceberg-spark-runtime-3.5_2.12;1.9.2!iceberg-spark-runtime-3.5_2.12.jar (7723ms)\n",
      "downloading https://repo1.maven.org/maven2/org/projectnessie/nessie-integrations/nessie-spark-extensions-3.5_2.12/0.103.3/nessie-spark-extensions-3.5_2.12-0.103.3.jar ...\n",
      "\t[SUCCESSFUL ] org.projectnessie.nessie-integrations#nessie-spark-extensions-3.5_2.12;0.103.3!nessie-spark-extensions-3.5_2.12.jar (487ms)\n",
      "downloading https://repo1.maven.org/maven2/org/apache/hadoop/hadoop-aws/3.3.4/hadoop-aws-3.3.4.jar ...\n",
      "\t[SUCCESSFUL ] org.apache.hadoop#hadoop-aws;3.3.4!hadoop-aws.jar (260ms)\n",
      "downloading https://repo1.maven.org/maven2/com/amazonaws/aws-java-sdk-bundle/1.12.262/aws-java-sdk-bundle-1.12.262.jar ...\n",
      "\t[SUCCESSFUL ] com.amazonaws#aws-java-sdk-bundle;1.12.262!aws-java-sdk-bundle.jar (34349ms)\n",
      "downloading https://repo1.maven.org/maven2/org/apache/spark/spark-sql-kafka-0-10_2.12/3.5.1/spark-sql-kafka-0-10_2.12-3.5.1.jar ...\n",
      "\t[SUCCESSFUL ] org.apache.spark#spark-sql-kafka-0-10_2.12;3.5.1!spark-sql-kafka-0-10_2.12.jar (279ms)\n",
      "downloading https://repo1.maven.org/maven2/org/wildfly/openssl/wildfly-openssl/1.0.7.Final/wildfly-openssl-1.0.7.Final.jar ...\n",
      "\t[SUCCESSFUL ] org.wildfly.openssl#wildfly-openssl;1.0.7.Final!wildfly-openssl.jar (209ms)\n",
      "downloading https://repo1.maven.org/maven2/org/apache/spark/spark-token-provider-kafka-0-10_2.12/3.5.1/spark-token-provider-kafka-0-10_2.12-3.5.1.jar ...\n",
      "\t[SUCCESSFUL ] org.apache.spark#spark-token-provider-kafka-0-10_2.12;3.5.1!spark-token-provider-kafka-0-10_2.12.jar (88ms)\n",
      "downloading https://repo1.maven.org/maven2/org/apache/kafka/kafka-clients/3.4.1/kafka-clients-3.4.1.jar ...\n",
      "\t[SUCCESSFUL ] org.apache.kafka#kafka-clients;3.4.1!kafka-clients.jar (487ms)\n",
      "downloading https://repo1.maven.org/maven2/com/google/code/findbugs/jsr305/3.0.0/jsr305-3.0.0.jar ...\n",
      "\t[SUCCESSFUL ] com.google.code.findbugs#jsr305;3.0.0!jsr305.jar (131ms)\n",
      "downloading https://repo1.maven.org/maven2/org/apache/commons/commons-pool2/2.11.1/commons-pool2-2.11.1.jar ...\n",
      "\t[SUCCESSFUL ] org.apache.commons#commons-pool2;2.11.1!commons-pool2.jar (87ms)\n",
      "downloading https://repo1.maven.org/maven2/org/apache/hadoop/hadoop-client-runtime/3.3.4/hadoop-client-runtime-3.3.4.jar ...\n",
      "\t[SUCCESSFUL ] org.apache.hadoop#hadoop-client-runtime;3.3.4!hadoop-client-runtime.jar (3412ms)\n",
      "downloading https://repo1.maven.org/maven2/org/lz4/lz4-java/1.8.0/lz4-java-1.8.0.jar ...\n",
      "\t[SUCCESSFUL ] org.lz4#lz4-java;1.8.0!lz4-java.jar (199ms)\n",
      "downloading https://repo1.maven.org/maven2/org/xerial/snappy/snappy-java/1.1.10.3/snappy-java-1.1.10.3.jar ...\n",
      "\t[SUCCESSFUL ] org.xerial.snappy#snappy-java;1.1.10.3!snappy-java.jar(bundle) (239ms)\n",
      "downloading https://repo1.maven.org/maven2/org/slf4j/slf4j-api/2.0.7/slf4j-api-2.0.7.jar ...\n",
      "\t[SUCCESSFUL ] org.slf4j#slf4j-api;2.0.7!slf4j-api.jar (139ms)\n",
      "downloading https://repo1.maven.org/maven2/org/apache/hadoop/hadoop-client-api/3.3.4/hadoop-client-api-3.3.4.jar ...\n",
      "\t[SUCCESSFUL ] org.apache.hadoop#hadoop-client-api;3.3.4!hadoop-client-api.jar (917ms)\n",
      "downloading https://repo1.maven.org/maven2/commons-logging/commons-logging/1.1.3/commons-logging-1.1.3.jar ...\n",
      "\t[SUCCESSFUL ] commons-logging#commons-logging;1.1.3!commons-logging.jar (80ms)\n",
      ":: resolution report :: resolve 23283ms :: artifacts dl 49455ms\n",
      "\t:: modules in use:\n",
      "\tcom.amazonaws#aws-java-sdk-bundle;1.12.262 from central in [default]\n",
      "\tcom.google.code.findbugs#jsr305;3.0.0 from central in [default]\n",
      "\tcommons-logging#commons-logging;1.1.3 from central in [default]\n",
      "\torg.apache.commons#commons-pool2;2.11.1 from central in [default]\n",
      "\torg.apache.hadoop#hadoop-aws;3.3.4 from central in [default]\n",
      "\torg.apache.hadoop#hadoop-client-api;3.3.4 from central in [default]\n",
      "\torg.apache.hadoop#hadoop-client-runtime;3.3.4 from central in [default]\n",
      "\torg.apache.iceberg#iceberg-spark-runtime-3.5_2.12;1.9.2 from central in [default]\n",
      "\torg.apache.kafka#kafka-clients;3.4.1 from central in [default]\n",
      "\torg.apache.spark#spark-sql-kafka-0-10_2.12;3.5.1 from central in [default]\n",
      "\torg.apache.spark#spark-token-provider-kafka-0-10_2.12;3.5.1 from central in [default]\n",
      "\torg.lz4#lz4-java;1.8.0 from central in [default]\n",
      "\torg.projectnessie.nessie-integrations#nessie-spark-extensions-3.5_2.12;0.103.3 from central in [default]\n",
      "\torg.slf4j#slf4j-api;2.0.7 from central in [default]\n",
      "\torg.wildfly.openssl#wildfly-openssl;1.0.7.Final from central in [default]\n",
      "\torg.xerial.snappy#snappy-java;1.1.10.3 from central in [default]\n",
      "\t---------------------------------------------------------------------\n",
      "\t|                  |            modules            ||   artifacts   |\n",
      "\t|       conf       | number| search|dwnlded|evicted|| number|dwnlded|\n",
      "\t---------------------------------------------------------------------\n",
      "\t|      default     |   16  |   16  |   16  |   0   ||   16  |   16  |\n",
      "\t---------------------------------------------------------------------\n",
      ":: retrieving :: org.apache.spark#spark-submit-parent-fc03b1b5-4942-43d0-9bf1-23bc34e6cfc4\n",
      "\tconfs: [default]\n",
      "\t16 artifacts copied, 0 already retrieved (378711kB/3679ms)\n",
      "25/10/19 08:32:04 WARN NativeCodeLoader: Unable to load native-hadoop library for your platform... using builtin-java classes where applicable\n",
      "Setting default log level to \"WARN\".\n",
      "To adjust logging level use sc.setLogLevel(newLevel). For SparkR, use setLogLevel(newLevel).\n"
     ]
    }
   ],
   "source": [
    "from pyspark.sql.functions import to_json, struct, col, expr, row_number, from_json, get_json_object, explode, when\n",
    "from pyspark.sql.window import Window\n",
    "from pyspark.sql.types import StructType, StringType, IntegerType, MapType, StructField\n",
    "from pyspark.sql import SparkSession\n",
    "\n",
    "# Creamos la sesión de Spark con configuración para Kubernetes\n",
    "spark = (\n",
    "    SparkSession.builder\n",
    "    .appName(\"JupyterSparkApp\")\n",
    "    .master(\"k8s://https://192.168.1.150:6443\")\n",
    "    .config(\"spark.submit.deployMode\", \"client\")\n",
    "    .config(\"spark.driver.host\", \"spark-driver-headless.default.svc.cluster.local\")\n",
    "    .config(\"spark.driver.port\", \"7077\")\n",
    "    .config(\"spark.driver.bindAddress\", \"0.0.0.0\")\n",
    "    .config(\"spark.executor.instances\", \"2\")\n",
    "    .config(\"spark.kubernetes.container.image\", \"docker.io/bitnami/spark:3.5.6\")\n",
    "    .config(\"spark.kubernetes.executor.deleteOnTermination\", \"true\")\n",
    "    .config(\"spark.jars.packages\", \"org.apache.iceberg:iceberg-spark-runtime-3.5_2.12:1.9.2,org.projectnessie.nessie-integrations:nessie-spark-extensions-3.5_2.12:0.103.3,org.apache.hadoop:hadoop-aws:3.3.4,com.amazonaws:aws-java-sdk-bundle:1.12.262,org.apache.spark:spark-sql-kafka-0-10_2.12:3.5.1\")\n",
    "    .config(\"spark.sql.extensions\", \"org.apache.iceberg.spark.extensions.IcebergSparkSessionExtensions,org.projectnessie.spark.extensions.NessieSparkSessionExtensions\")\n",
    "    .config(\"spark.sql.catalog.nessie\", \"org.apache.iceberg.spark.SparkCatalog\")\n",
    "    .config(\"spark.sql.catalog.nessie.uri\", \"http://nessie.nessie-ns.svc.cluster.local:19120/api/v1\")\n",
    "    .config(\"spark.sql.catalog.nessie.ref\", \"main\")\n",
    "    .config(\"spark.sql.catalog.nessie.authentication.type\", \"NONE\")\n",
    "    .config(\"spark.sql.catalog.nessie.catalog-impl\", \"org.apache.iceberg.nessie.NessieCatalog\")\n",
    "    .config(\"spark.sql.catalog.nessie.warehouse\", \"s3a://synthetic\")\n",
    "    .config(\"spark.hadoop.fs.s3a.access.key\", \"qVgFWBabQmQrSuWTJGhj\")\n",
    "    .config(\"spark.hadoop.fs.s3a.secret.key\", \"l2GjPEVu22SfiqtaAU2zj3lBptEIoG1iRXGucn3o\")\n",
    "    .config(\"spark.hadoop.fs.s3a.endpoint\", \"http://myminio-hl.minio-tenant.svc.cluster.local:9000\")\n",
    "    .config(\"spark.hadoop.fs.s3a.path.style.access\", \"true\")\n",
    "    .getOrCreate()\n",
    ")"
   ]
  },
  {
   "cell_type": "code",
   "execution_count": null,
   "id": "37fc805c-67ea-49c4-8339-26a3dcbe68af",
   "metadata": {},
   "outputs": [],
   "source": [
    "spark.sql(\"DROP TABLE IF EXISTS nessie.products_bronze\")"
   ]
  },
  {
   "cell_type": "code",
   "execution_count": null,
   "id": "4cae947e-8d24-4b97-838c-9edddc083347",
   "metadata": {},
   "outputs": [],
   "source": [
    "# Bronze layer\n",
    "df = spark.readStream \\\n",
    "    .format(\"kafka\") \\\n",
    "    .option(\"kafka.bootstrap.servers\", \"my-cluster-kafka-bootstrap.kafka.svc.cluster.local:9092\") \\\n",
    "    .option(\"subscribe\", \"mongo.synthetic.products\") \\\n",
    "    .option(\"startingOffsets\", \"earliest\") \\\n",
    "    .load()\n",
    "\n",
    "df_iceberg = df.select(\n",
    "    col(\"key\").cast(\"string\"),\n",
    "    col(\"value\").cast(\"string\"),\n",
    "    \"topic\",\n",
    "    \"partition\",\n",
    "    \"offset\",\n",
    "    \"timestamp\",\n",
    "    \"timestampType\"\n",
    ")\n",
    "\n",
    "spark.sql(\"\"\"\n",
    "CREATE TABLE IF NOT EXISTS nessie.products_bronze (\n",
    "    key STRING,\n",
    "    value STRING,\n",
    "    topic STRING,\n",
    "    partition INT,\n",
    "    offset LONG,\n",
    "    timestamp TIMESTAMP,\n",
    "    timestampType INT\n",
    ")\n",
    "USING iceberg\n",
    "PARTITIONED BY (days(timestamp))\n",
    "LOCATION 's3a://synthetic/products_bronze'\n",
    "TBLPROPERTIES (\n",
    "    'format-version'='2',\n",
    "    'write.format.default'='parquet'\n",
    ")\n",
    "\"\"\")\n",
    "\n",
    "query = df_iceberg.writeStream \\\n",
    "    .format(\"iceberg\") \\\n",
    "    .outputMode(\"append\") \\\n",
    "    .option(\"checkpointLocation\", \"s3a://synthetic/checkpoints/products_bronze\") \\\n",
    "    .toTable(\"nessie.products_bronze\")\n",
    "query.awaitTermination()"
   ]
  },
  {
   "cell_type": "code",
   "execution_count": null,
   "id": "7e7afe13-8db5-4be8-ad9b-fc4ac2214acf",
   "metadata": {},
   "outputs": [],
   "source": [
    "query.stop()"
   ]
  },
  {
   "cell_type": "code",
   "execution_count": 6,
   "id": "5088882f-6af8-4e8e-bdc5-58c11dc689f3",
   "metadata": {},
   "outputs": [
    {
     "data": {
      "text/plain": [
       "[<pyspark.sql.streaming.query.StreamingQuery at 0x78c4d82e7950>]"
      ]
     },
     "execution_count": 6,
     "metadata": {},
     "output_type": "execute_result"
    },
    {
     "name": "stderr",
     "output_type": "stream",
     "text": [
      "                                                                                "
     ]
    }
   ],
   "source": [
    "spark.streams.active"
   ]
  },
  {
   "cell_type": "code",
   "execution_count": 4,
   "id": "a10f0304-7413-4547-a069-83a6f93a90da",
   "metadata": {},
   "outputs": [
    {
     "name": "stderr",
     "output_type": "stream",
     "text": [
      "                                                                                "
     ]
    },
    {
     "name": "stdout",
     "output_type": "stream",
     "text": [
      "+--------------------+--------------------+--------------------+---------+------+--------------------+-------------+\n",
      "|                 key|               value|               topic|partition|offset|           timestamp|timestampType|\n",
      "+--------------------+--------------------+--------------------+---------+------+--------------------+-------------+\n",
      "|{\"schema\":{\"type\"...|{\"schema\":{\"type\"...|mongo.synthetic.p...|        0|     0|2025-10-19 08:24:...|            0|\n",
      "|{\"schema\":{\"type\"...|{\"schema\":{\"type\"...|mongo.synthetic.p...|        0|     1|2025-10-19 08:24:...|            0|\n",
      "|{\"schema\":{\"type\"...|{\"schema\":{\"type\"...|mongo.synthetic.p...|        0|     2|2025-10-19 08:24:...|            0|\n",
      "|{\"schema\":{\"type\"...|{\"schema\":{\"type\"...|mongo.synthetic.p...|        0|     3|2025-10-19 08:24:...|            0|\n",
      "|{\"schema\":{\"type\"...|{\"schema\":{\"type\"...|mongo.synthetic.p...|        0|     4|2025-10-19 08:24:...|            0|\n",
      "|{\"schema\":{\"type\"...|{\"schema\":{\"type\"...|mongo.synthetic.p...|        0|     5|2025-10-19 08:24:...|            0|\n",
      "|{\"schema\":{\"type\"...|{\"schema\":{\"type\"...|mongo.synthetic.p...|        0|     6|2025-10-19 08:24:...|            0|\n",
      "|{\"schema\":{\"type\"...|{\"schema\":{\"type\"...|mongo.synthetic.p...|        0|     7|2025-10-19 08:24:...|            0|\n",
      "|{\"schema\":{\"type\"...|{\"schema\":{\"type\"...|mongo.synthetic.p...|        0|     8|2025-10-19 08:24:...|            0|\n",
      "|{\"schema\":{\"type\"...|{\"schema\":{\"type\"...|mongo.synthetic.p...|        0|     9|2025-10-19 08:24:...|            0|\n",
      "|{\"schema\":{\"type\"...|{\"schema\":{\"type\"...|mongo.synthetic.p...|        0|    10|2025-10-19 08:24:...|            0|\n",
      "|{\"schema\":{\"type\"...|{\"schema\":{\"type\"...|mongo.synthetic.p...|        0|    11|2025-10-19 08:24:...|            0|\n",
      "|{\"schema\":{\"type\"...|{\"schema\":{\"type\"...|mongo.synthetic.p...|        0|    12|2025-10-19 08:24:...|            0|\n",
      "|{\"schema\":{\"type\"...|{\"schema\":{\"type\"...|mongo.synthetic.p...|        0|    13|2025-10-19 08:24:...|            0|\n",
      "|{\"schema\":{\"type\"...|{\"schema\":{\"type\"...|mongo.synthetic.p...|        0|    14|2025-10-19 08:24:...|            0|\n",
      "|{\"schema\":{\"type\"...|{\"schema\":{\"type\"...|mongo.synthetic.p...|        0|    15|2025-10-19 08:24:...|            0|\n",
      "|{\"schema\":{\"type\"...|{\"schema\":{\"type\"...|mongo.synthetic.p...|        0|    16|2025-10-19 08:24:...|            0|\n",
      "|{\"schema\":{\"type\"...|{\"schema\":{\"type\"...|mongo.synthetic.p...|        0|    17|2025-10-19 08:24:...|            0|\n",
      "|{\"schema\":{\"type\"...|{\"schema\":{\"type\"...|mongo.synthetic.p...|        0|    18|2025-10-19 08:24:...|            0|\n",
      "|{\"schema\":{\"type\"...|{\"schema\":{\"type\"...|mongo.synthetic.p...|        0|    19|2025-10-19 08:24:...|            0|\n",
      "+--------------------+--------------------+--------------------+---------+------+--------------------+-------------+\n",
      "only showing top 20 rows\n",
      "\n"
     ]
    },
    {
     "name": "stderr",
     "output_type": "stream",
     "text": [
      "                                                                                "
     ]
    }
   ],
   "source": [
    "query = spark.sql(\"\"\"\n",
    "   SELECT * FROM nessie.products_bronze\n",
    "\"\"\")\n",
    "query.show()"
   ]
  }
 ],
 "metadata": {
  "kernelspec": {
   "display_name": "Python 3 (ipykernel)",
   "language": "python",
   "name": "python3"
  },
  "language_info": {
   "codemirror_mode": {
    "name": "ipython",
    "version": 3
   },
   "file_extension": ".py",
   "mimetype": "text/x-python",
   "name": "python",
   "nbconvert_exporter": "python",
   "pygments_lexer": "ipython3",
   "version": "3.12.5"
  }
 },
 "nbformat": 4,
 "nbformat_minor": 5
}
